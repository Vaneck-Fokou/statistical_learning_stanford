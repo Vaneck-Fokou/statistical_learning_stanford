{
 "cells": [
  {
   "cell_type": "markdown",
   "metadata": {},
   "source": [
    "<div class = \"alert alert-info\"> <h1 align = center> REGRESSION </h1>\n",
    "</div>"
   ]
  },
  {
   "cell_type": "code",
   "execution_count": 13,
   "metadata": {},
   "outputs": [],
   "source": [
    "# Importing libraries \n",
    "\n",
    "library(MASS)\n",
    "library(ISLR)\n",
    "\n",
    "# Setting plot options\n",
    "\n",
    "options(repr.plot.width = 4, repr.plot.height = 3, repr.plot.res = 130)"
   ]
  },
  {
   "cell_type": "markdown",
   "metadata": {},
   "source": [
    "<font color = red> <h3> 1 - Simple linear regression </h3> </font>"
   ]
  },
  {
   "cell_type": "markdown",
   "metadata": {},
   "source": [
    "We are going to use the Boston dataset from the MASS library. Now let's explore this dataset. "
   ]
  },
  {
   "cell_type": "code",
   "execution_count": 4,
   "metadata": {},
   "outputs": [
    {
     "data": {
      "text/html": [
       "<ol class=list-inline>\n",
       "\t<li>'crim'</li>\n",
       "\t<li>'zn'</li>\n",
       "\t<li>'indus'</li>\n",
       "\t<li>'chas'</li>\n",
       "\t<li>'nox'</li>\n",
       "\t<li>'rm'</li>\n",
       "\t<li>'age'</li>\n",
       "\t<li>'dis'</li>\n",
       "\t<li>'rad'</li>\n",
       "\t<li>'tax'</li>\n",
       "\t<li>'ptratio'</li>\n",
       "\t<li>'black'</li>\n",
       "\t<li>'lstat'</li>\n",
       "\t<li>'medv'</li>\n",
       "</ol>\n"
      ],
      "text/latex": [
       "\\begin{enumerate*}\n",
       "\\item 'crim'\n",
       "\\item 'zn'\n",
       "\\item 'indus'\n",
       "\\item 'chas'\n",
       "\\item 'nox'\n",
       "\\item 'rm'\n",
       "\\item 'age'\n",
       "\\item 'dis'\n",
       "\\item 'rad'\n",
       "\\item 'tax'\n",
       "\\item 'ptratio'\n",
       "\\item 'black'\n",
       "\\item 'lstat'\n",
       "\\item 'medv'\n",
       "\\end{enumerate*}\n"
      ],
      "text/markdown": [
       "1. 'crim'\n",
       "2. 'zn'\n",
       "3. 'indus'\n",
       "4. 'chas'\n",
       "5. 'nox'\n",
       "6. 'rm'\n",
       "7. 'age'\n",
       "8. 'dis'\n",
       "9. 'rad'\n",
       "10. 'tax'\n",
       "11. 'ptratio'\n",
       "12. 'black'\n",
       "13. 'lstat'\n",
       "14. 'medv'\n",
       "\n",
       "\n"
      ],
      "text/plain": [
       " [1] \"crim\"    \"zn\"      \"indus\"   \"chas\"    \"nox\"     \"rm\"      \"age\"    \n",
       " [8] \"dis\"     \"rad\"     \"tax\"     \"ptratio\" \"black\"   \"lstat\"   \"medv\"   "
      ]
     },
     "metadata": {},
     "output_type": "display_data"
    }
   ],
   "source": [
    "# The names of the variables of the dataset\n",
    "names(Boston)"
   ]
  },
  {
   "cell_type": "code",
   "execution_count": 5,
   "metadata": {},
   "outputs": [
    {
     "data": {
      "text/html": [
       "\n",
       "<table width=\"100%\" summary=\"page for Boston {MASS}\"><tr><td>Boston {MASS}</td><td style=\"text-align: right;\">R Documentation</td></tr></table>\n",
       "\n",
       "<h2>\n",
       "Housing Values in Suburbs of Boston\n",
       "</h2>\n",
       "\n",
       "<h3>Description</h3>\n",
       "\n",
       "<p>The <code>Boston</code> data frame has 506 rows and 14 columns.\n",
       "</p>\n",
       "\n",
       "\n",
       "<h3>Usage</h3>\n",
       "\n",
       "<pre>\n",
       "Boston\n",
       "</pre>\n",
       "\n",
       "\n",
       "<h3>Format</h3>\n",
       "\n",
       "<p>This data frame contains the following columns:\n",
       "</p>\n",
       "\n",
       "<dl>\n",
       "<dt><code>crim</code></dt><dd>\n",
       "<p>per capita crime rate by town.\n",
       "</p>\n",
       "</dd>\n",
       "<dt><code>zn</code></dt><dd>\n",
       "<p>proportion of residential land zoned for lots over 25,000 sq.ft.\n",
       "</p>\n",
       "</dd>\n",
       "<dt><code>indus</code></dt><dd>\n",
       "<p>proportion of non-retail business acres per town.\n",
       "</p>\n",
       "</dd>\n",
       "<dt><code>chas</code></dt><dd>\n",
       "<p>Charles River dummy variable (= 1 if tract bounds river; 0 otherwise).\n",
       "</p>\n",
       "</dd>\n",
       "<dt><code>nox</code></dt><dd>\n",
       "<p>nitrogen oxides concentration (parts per 10 million).\n",
       "</p>\n",
       "</dd>\n",
       "<dt><code>rm</code></dt><dd>\n",
       "<p>average number of rooms per dwelling.\n",
       "</p>\n",
       "</dd>\n",
       "<dt><code>age</code></dt><dd>\n",
       "<p>proportion of owner-occupied units built prior to 1940.\n",
       "</p>\n",
       "</dd>\n",
       "<dt><code>dis</code></dt><dd>\n",
       "<p>weighted mean of distances to five Boston employment centres.\n",
       "</p>\n",
       "</dd>\n",
       "<dt><code>rad</code></dt><dd>\n",
       "<p>index of accessibility to radial highways.\n",
       "</p>\n",
       "</dd>\n",
       "<dt><code>tax</code></dt><dd>\n",
       "<p>full-value property-tax rate per \\$10,000.\n",
       "</p>\n",
       "</dd>\n",
       "<dt><code>ptratio</code></dt><dd>\n",
       "<p>pupil-teacher ratio by town.\n",
       "</p>\n",
       "</dd>\n",
       "<dt><code>black</code></dt><dd>\n",
       "<p><i>1000(Bk - 0.63)^2</i> where <i>Bk</i> is the proportion of blacks\n",
       "by town.\n",
       "</p>\n",
       "</dd>\n",
       "<dt><code>lstat</code></dt><dd>\n",
       "<p>lower status of the population (percent).\n",
       "</p>\n",
       "</dd>\n",
       "<dt><code>medv</code></dt><dd>\n",
       "<p>median value of owner-occupied homes in \\$1000s.\n",
       "</p>\n",
       "</dd>\n",
       "</dl>\n",
       "\n",
       "\n",
       "\n",
       "<h3>Source</h3>\n",
       "\n",
       "<p>Harrison, D. and Rubinfeld, D.L. (1978)\n",
       "Hedonic prices and the demand for clean air.\n",
       "<em>J. Environ. Economics and Management</em>\n",
       "<b>5</b>, 81&ndash;102.\n",
       "</p>\n",
       "<p>Belsley D.A., Kuh, E.  and Welsch, R.E. (1980)\n",
       "<em>Regression Diagnostics. Identifying Influential Data and Sources\n",
       "of Collinearity.</em>\n",
       "New York: Wiley.\n",
       "</p>\n",
       "\n",
       "<hr /><div style=\"text-align: center;\">[Package <em>MASS</em> version 7.3-51.3 ]</div>"
      ],
      "text/latex": [
       "\\inputencoding{utf8}\n",
       "\\HeaderA{Boston}{Housing Values in Suburbs of Boston}{Boston}\n",
       "\\keyword{datasets}{Boston}\n",
       "%\n",
       "\\begin{Description}\\relax\n",
       "The \\code{Boston} data frame has 506 rows and 14 columns.\n",
       "\\end{Description}\n",
       "%\n",
       "\\begin{Usage}\n",
       "\\begin{verbatim}\n",
       "Boston\n",
       "\\end{verbatim}\n",
       "\\end{Usage}\n",
       "%\n",
       "\\begin{Format}\n",
       "This data frame contains the following columns:\n",
       "\\begin{description}\n",
       "\n",
       "\\item[\\code{crim}] \n",
       "per capita crime rate by town.\n",
       "\n",
       "\\item[\\code{zn}] \n",
       "proportion of residential land zoned for lots over 25,000 sq.ft.\n",
       "\n",
       "\\item[\\code{indus}] \n",
       "proportion of non-retail business acres per town.\n",
       "\n",
       "\\item[\\code{chas}] \n",
       "Charles River dummy variable (= 1 if tract bounds river; 0 otherwise).\n",
       "\n",
       "\\item[\\code{nox}] \n",
       "nitrogen oxides concentration (parts per 10 million).\n",
       "\n",
       "\\item[\\code{rm}] \n",
       "average number of rooms per dwelling.\n",
       "\n",
       "\\item[\\code{age}] \n",
       "proportion of owner-occupied units built prior to 1940.\n",
       "\n",
       "\\item[\\code{dis}] \n",
       "weighted mean of distances to five Boston employment centres.\n",
       "\n",
       "\\item[\\code{rad}] \n",
       "index of accessibility to radial highways.\n",
       "\n",
       "\\item[\\code{tax}] \n",
       "full-value property-tax rate per \\bsl{}\\$10,000.\n",
       "\n",
       "\\item[\\code{ptratio}] \n",
       "pupil-teacher ratio by town.\n",
       "\n",
       "\\item[\\code{black}] \n",
       "\\eqn{1000(Bk - 0.63)^2}{} where \\eqn{Bk}{} is the proportion of blacks\n",
       "by town.\n",
       "\n",
       "\\item[\\code{lstat}] \n",
       "lower status of the population (percent).\n",
       "\n",
       "\\item[\\code{medv}] \n",
       "median value of owner-occupied homes in \\bsl{}\\$1000s.\n",
       "\n",
       "\n",
       "\\end{description}\n",
       "\n",
       "\\end{Format}\n",
       "%\n",
       "\\begin{Source}\\relax\n",
       "Harrison, D. and Rubinfeld, D.L. (1978)\n",
       "Hedonic prices and the demand for clean air.\n",
       "\\emph{J. Environ. Economics and Management}\n",
       "\\bold{5}, 81--102.\n",
       "\n",
       "Belsley D.A., Kuh, E.  and Welsch, R.E. (1980)\n",
       "\\emph{Regression Diagnostics. Identifying Influential Data and Sources\n",
       "of Collinearity.}\n",
       "New York: Wiley.\n",
       "\\end{Source}"
      ],
      "text/plain": [
       "Boston                  package:MASS                   R Documentation\n",
       "\n",
       "_\bH_\bo_\bu_\bs_\bi_\bn_\bg _\bV_\ba_\bl_\bu_\be_\bs _\bi_\bn _\bS_\bu_\bb_\bu_\br_\bb_\bs _\bo_\bf _\bB_\bo_\bs_\bt_\bo_\bn\n",
       "\n",
       "_\bD_\be_\bs_\bc_\br_\bi_\bp_\bt_\bi_\bo_\bn:\n",
       "\n",
       "     The 'Boston' data frame has 506 rows and 14 columns.\n",
       "\n",
       "_\bU_\bs_\ba_\bg_\be:\n",
       "\n",
       "     Boston\n",
       "     \n",
       "_\bF_\bo_\br_\bm_\ba_\bt:\n",
       "\n",
       "     This data frame contains the following columns:\n",
       "\n",
       "     'crim' per capita crime rate by town.\n",
       "\n",
       "     'zn' proportion of residential land zoned for lots over 25,000\n",
       "          sq.ft.\n",
       "\n",
       "     'indus' proportion of non-retail business acres per town.\n",
       "\n",
       "     'chas' Charles River dummy variable (= 1 if tract bounds river; 0\n",
       "          otherwise).\n",
       "\n",
       "     'nox' nitrogen oxides concentration (parts per 10 million).\n",
       "\n",
       "     'rm' average number of rooms per dwelling.\n",
       "\n",
       "     'age' proportion of owner-occupied units built prior to 1940.\n",
       "\n",
       "     'dis' weighted mean of distances to five Boston employment\n",
       "          centres.\n",
       "\n",
       "     'rad' index of accessibility to radial highways.\n",
       "\n",
       "     'tax' full-value property-tax rate per \\$10,000.\n",
       "\n",
       "     'ptratio' pupil-teacher ratio by town.\n",
       "\n",
       "     'black' 1000(Bk - 0.63)^2 where Bk is the proportion of blacks by\n",
       "          town.\n",
       "\n",
       "     'lstat' lower status of the population (percent).\n",
       "\n",
       "     'medv' median value of owner-occupied homes in \\$1000s.\n",
       "\n",
       "_\bS_\bo_\bu_\br_\bc_\be:\n",
       "\n",
       "     Harrison, D. and Rubinfeld, D.L. (1978) Hedonic prices and the\n",
       "     demand for clean air.  _J. Environ. Economics and Management_ *5*,\n",
       "     81-102.\n",
       "\n",
       "     Belsley D.A., Kuh, E.  and Welsch, R.E. (1980) _Regression\n",
       "     Diagnostics. Identifying Influential Data and Sources of\n",
       "     Collinearity._ New York: Wiley.\n"
      ]
     },
     "metadata": {},
     "output_type": "display_data"
    }
   ],
   "source": [
    "# The documentation of the dataset\n",
    "?Boston"
   ]
  },
  {
   "cell_type": "markdown",
   "metadata": {},
   "source": [
    " We will plot the waviable `medv` and `lstat` to see if there is any apparent relationship between these variables."
   ]
  },
  {
   "cell_type": "code",
   "execution_count": 14,
   "metadata": {},
   "outputs": [
    {
     "data": {
      "image/png": "[encoded data removed]",
      "text/plain": [
       "plot without title"
      ]
     },
     "metadata": {},
     "output_type": "display_data"
    }
   ],
   "source": [
    "plot(medv ~ lstat, Boston)"
   ]
  },
  {
   "cell_type": "markdown",
   "metadata": {},
   "source": [
    "We can see that as the lower status in the region percentage increases the median housing value decreases.  \n",
    "\n",
    "\n",
    "We will fit a linear model now to those data. "
   ]
  },
  {
   "cell_type": "code",
   "execution_count": 7,
   "metadata": {},
   "outputs": [
    {
     "data": {
      "text/plain": [
       "\n",
       "Call:\n",
       "lm(formula = medv ~ lstat, data = Boston)\n",
       "\n",
       "Coefficients:\n",
       "(Intercept)        lstat  \n",
       "      34.55        -0.95  \n"
      ]
     },
     "metadata": {},
     "output_type": "display_data"
    }
   ],
   "source": [
    "# the linear model \n",
    "fit1 <- lm(medv ~ lstat, data = Boston)\n",
    "fit1"
   ]
  },
  {
   "cell_type": "markdown",
   "metadata": {},
   "source": [
    "We can see that the coefficient of the variable lstat is negative as we have a negative relationship between those variables."
   ]
  },
  {
   "cell_type": "code",
   "execution_count": 8,
   "metadata": {},
   "outputs": [
    {
     "data": {
      "text/plain": [
       "\n",
       "Call:\n",
       "lm(formula = medv ~ lstat, data = Boston)\n",
       "\n",
       "Residuals:\n",
       "    Min      1Q  Median      3Q     Max \n",
       "-15.168  -3.990  -1.318   2.034  24.500 \n",
       "\n",
       "Coefficients:\n",
       "            Estimate Std. Error t value Pr(>|t|)    \n",
       "(Intercept) 34.55384    0.56263   61.41   <2e-16 ***\n",
       "lstat       -0.95005    0.03873  -24.53   <2e-16 ***\n",
       "---\n",
       "Signif. codes:  0 '***' 0.001 '**' 0.01 '*' 0.05 '.' 0.1 ' ' 1\n",
       "\n",
       "Residual standard error: 6.216 on 504 degrees of freedom\n",
       "Multiple R-squared:  0.5441,\tAdjusted R-squared:  0.5432 \n",
       "F-statistic: 601.6 on 1 and 504 DF,  p-value: < 2.2e-16\n"
      ]
     },
     "metadata": {},
     "output_type": "display_data"
    }
   ],
   "source": [
    "# We use the summary function to get more information about our model\n",
    "\n",
    "summary(fit1)"
   ]
  },
  {
   "cell_type": "code",
   "execution_count": 16,
   "metadata": {},
   "outputs": [
    {
     "data": {
      "image/png": "[encoded data removed]",
      "text/plain": [
       "plot without title"
      ]
     },
     "metadata": {},
     "output_type": "display_data"
    }
   ],
   "source": [
    "# adding a regression line from our model to the scatter plot\n",
    "plot(medv ~ lstat, Boston)\n",
    "abline(fit1, col = \"red\")"
   ]
  },
  {
   "cell_type": "code",
   "execution_count": 17,
   "metadata": {},
   "outputs": [
    {
     "data": {
      "text/html": [
       "<ol class=list-inline>\n",
       "\t<li>'coefficients'</li>\n",
       "\t<li>'residuals'</li>\n",
       "\t<li>'effects'</li>\n",
       "\t<li>'rank'</li>\n",
       "\t<li>'fitted.values'</li>\n",
       "\t<li>'assign'</li>\n",
       "\t<li>'qr'</li>\n",
       "\t<li>'df.residual'</li>\n",
       "\t<li>'xlevels'</li>\n",
       "\t<li>'call'</li>\n",
       "\t<li>'terms'</li>\n",
       "\t<li>'model'</li>\n",
       "</ol>\n"
      ],
      "text/latex": [
       "\\begin{enumerate*}\n",
       "\\item 'coefficients'\n",
       "\\item 'residuals'\n",
       "\\item 'effects'\n",
       "\\item 'rank'\n",
       "\\item 'fitted.values'\n",
       "\\item 'assign'\n",
       "\\item 'qr'\n",
       "\\item 'df.residual'\n",
       "\\item 'xlevels'\n",
       "\\item 'call'\n",
       "\\item 'terms'\n",
       "\\item 'model'\n",
       "\\end{enumerate*}\n"
      ],
      "text/markdown": [
       "1. 'coefficients'\n",
       "2. 'residuals'\n",
       "3. 'effects'\n",
       "4. 'rank'\n",
       "5. 'fitted.values'\n",
       "6. 'assign'\n",
       "7. 'qr'\n",
       "8. 'df.residual'\n",
       "9. 'xlevels'\n",
       "10. 'call'\n",
       "11. 'terms'\n",
       "12. 'model'\n",
       "\n",
       "\n"
      ],
      "text/plain": [
       " [1] \"coefficients\"  \"residuals\"     \"effects\"       \"rank\"         \n",
       " [5] \"fitted.values\" \"assign\"        \"qr\"            \"df.residual\"  \n",
       " [9] \"xlevels\"       \"call\"          \"terms\"         \"model\"        "
      ]
     },
     "metadata": {},
     "output_type": "display_data"
    }
   ],
   "source": [
    "# we can see all the components of our generated model \n",
    "\n",
    "names(fit1)"
   ]
  },
  {
   "cell_type": "code",
   "execution_count": 18,
   "metadata": {},
   "outputs": [
    {
     "data": {
      "text/html": [
       "<table>\n",
       "<thead><tr><th></th><th scope=col>2.5 %</th><th scope=col>97.5 %</th></tr></thead>\n",
       "<tbody>\n",
       "\t<tr><th scope=row>(Intercept)</th><td>33.448457 </td><td>35.6592247</td></tr>\n",
       "\t<tr><th scope=row>lstat</th><td>-1.026148 </td><td>-0.8739505</td></tr>\n",
       "</tbody>\n",
       "</table>\n"
      ],
      "text/latex": [
       "\\begin{tabular}{r|ll}\n",
       "  & 2.5 \\% & 97.5 \\%\\\\\n",
       "\\hline\n",
       "\t(Intercept) & 33.448457  & 35.6592247\\\\\n",
       "\tlstat & -1.026148  & -0.8739505\\\\\n",
       "\\end{tabular}\n"
      ],
      "text/markdown": [
       "\n",
       "| <!--/--> | 2.5 % | 97.5 % |\n",
       "|---|---|---|\n",
       "| (Intercept) | 33.448457  | 35.6592247 |\n",
       "| lstat | -1.026148  | -0.8739505 |\n",
       "\n"
      ],
      "text/plain": [
       "            2.5 %     97.5 %    \n",
       "(Intercept) 33.448457 35.6592247\n",
       "lstat       -1.026148 -0.8739505"
      ]
     },
     "metadata": {},
     "output_type": "display_data"
    }
   ],
   "source": [
    "# the 95% confidence interval of the estimated parameters of the model\n",
    "\n",
    "confint(fit1)"
   ]
  },
  {
   "cell_type": "code",
   "execution_count": 20,
   "metadata": {},
   "outputs": [
    {
     "data": {
      "text/html": [
       "<table>\n",
       "<thead><tr><th scope=col>fit</th><th scope=col>lwr</th><th scope=col>upr</th></tr></thead>\n",
       "<tbody>\n",
       "\t<tr><td>29.80359</td><td>29.00741</td><td>30.59978</td></tr>\n",
       "\t<tr><td>25.05335</td><td>24.47413</td><td>25.63256</td></tr>\n",
       "\t<tr><td>20.30310</td><td>19.73159</td><td>20.87461</td></tr>\n",
       "</tbody>\n",
       "</table>\n"
      ],
      "text/latex": [
       "\\begin{tabular}{r|lll}\n",
       " fit & lwr & upr\\\\\n",
       "\\hline\n",
       "\t 29.80359 & 29.00741 & 30.59978\\\\\n",
       "\t 25.05335 & 24.47413 & 25.63256\\\\\n",
       "\t 20.30310 & 19.73159 & 20.87461\\\\\n",
       "\\end{tabular}\n"
      ],
      "text/markdown": [
       "\n",
       "| fit | lwr | upr |\n",
       "|---|---|---|\n",
       "| 29.80359 | 29.00741 | 30.59978 |\n",
       "| 25.05335 | 24.47413 | 25.63256 |\n",
       "| 20.30310 | 19.73159 | 20.87461 |\n",
       "\n"
      ],
      "text/plain": [
       "  fit      lwr      upr     \n",
       "1 29.80359 29.00741 30.59978\n",
       "2 25.05335 24.47413 25.63256\n",
       "3 20.30310 19.73159 20.87461"
      ]
     },
     "metadata": {},
     "output_type": "display_data"
    }
   ],
   "source": [
    "# We can also predict the 95% confidence interval of medv for some new values of lstat\n",
    "\n",
    "predict(fit1, data.frame(lstat = c(5, 10, 15)), interval = \"confidence\")"
   ]
  },
  {
   "cell_type": "markdown",
   "metadata": {},
   "source": [
    "<font color = red> <h3> 2 - Multiple linear regression </h3> </font>"
   ]
  },
  {
   "cell_type": "markdown",
   "metadata": {},
   "source": [
    "Now we will fit another linear model `fit2` with lstat and age. "
   ]
  },
  {
   "cell_type": "code",
   "execution_count": 21,
   "metadata": {},
   "outputs": [
    {
     "data": {
      "text/plain": [
       "\n",
       "Call:\n",
       "lm(formula = medv ~ lstat + age, data = Boston)\n",
       "\n",
       "Residuals:\n",
       "    Min      1Q  Median      3Q     Max \n",
       "-15.981  -3.978  -1.283   1.968  23.158 \n",
       "\n",
       "Coefficients:\n",
       "            Estimate Std. Error t value Pr(>|t|)    \n",
       "(Intercept) 33.22276    0.73085  45.458  < 2e-16 ***\n",
       "lstat       -1.03207    0.04819 -21.416  < 2e-16 ***\n",
       "age          0.03454    0.01223   2.826  0.00491 ** \n",
       "---\n",
       "Signif. codes:  0 '***' 0.001 '**' 0.01 '*' 0.05 '.' 0.1 ' ' 1\n",
       "\n",
       "Residual standard error: 6.173 on 503 degrees of freedom\n",
       "Multiple R-squared:  0.5513,\tAdjusted R-squared:  0.5495 \n",
       "F-statistic:   309 on 2 and 503 DF,  p-value: < 2.2e-16\n"
      ]
     },
     "metadata": {},
     "output_type": "display_data"
    }
   ],
   "source": [
    "# multiple linear regression model \n",
    "\n",
    "fit2 <- lm(medv ~ lstat + age, data = Boston)\n",
    "summary(fit2)"
   ]
  },
  {
   "cell_type": "markdown",
   "metadata": {},
   "source": [
    "We can see that the variable `age` is significant but not as significant as the variable `lstat`.\n",
    "\n",
    "Also the R-squared which is the percentage of variance explained is higher for this new model than for the previous one."
   ]
  },
  {
   "cell_type": "code",
   "execution_count": 22,
   "metadata": {},
   "outputs": [
    {
     "data": {
      "text/plain": [
       "\n",
       "Call:\n",
       "lm(formula = medv ~ ., data = Boston)\n",
       "\n",
       "Residuals:\n",
       "    Min      1Q  Median      3Q     Max \n",
       "-15.595  -2.730  -0.518   1.777  26.199 \n",
       "\n",
       "Coefficients:\n",
       "              Estimate Std. Error t value Pr(>|t|)    \n",
       "(Intercept)  3.646e+01  5.103e+00   7.144 3.28e-12 ***\n",
       "crim        -1.080e-01  3.286e-02  -3.287 0.001087 ** \n",
       "zn           4.642e-02  1.373e-02   3.382 0.000778 ***\n",
       "indus        2.056e-02  6.150e-02   0.334 0.738288    \n",
       "chas         2.687e+00  8.616e-01   3.118 0.001925 ** \n",
       "nox         -1.777e+01  3.820e+00  -4.651 4.25e-06 ***\n",
       "rm           3.810e+00  4.179e-01   9.116  < 2e-16 ***\n",
       "age          6.922e-04  1.321e-02   0.052 0.958229    \n",
       "dis         -1.476e+00  1.995e-01  -7.398 6.01e-13 ***\n",
       "rad          3.060e-01  6.635e-02   4.613 5.07e-06 ***\n",
       "tax         -1.233e-02  3.760e-03  -3.280 0.001112 ** \n",
       "ptratio     -9.527e-01  1.308e-01  -7.283 1.31e-12 ***\n",
       "black        9.312e-03  2.686e-03   3.467 0.000573 ***\n",
       "lstat       -5.248e-01  5.072e-02 -10.347  < 2e-16 ***\n",
       "---\n",
       "Signif. codes:  0 '***' 0.001 '**' 0.01 '*' 0.05 '.' 0.1 ' ' 1\n",
       "\n",
       "Residual standard error: 4.745 on 492 degrees of freedom\n",
       "Multiple R-squared:  0.7406,\tAdjusted R-squared:  0.7338 \n",
       "F-statistic: 108.1 on 13 and 492 DF,  p-value: < 2.2e-16\n"
      ]
     },
     "metadata": {},
     "output_type": "display_data"
    }
   ],
   "source": [
    "# Let's look another multiple linear regression model with all the other variables as predictors\n",
    "\n",
    "fit3 <- lm(medv ~ ., data = Boston)\n",
    "summary(fit3)"
   ]
  },
  {
   "cell_type": "markdown",
   "metadata": {},
   "source": [
    "This new model has a higher R-squared than the two previous one. We can see that here the variable age is no longer significant. This can be explained by the fact that many other predictors are very correlated to age and in their presence age is no longer required.   "
   ]
  },
  {
   "cell_type": "code",
   "execution_count": 28,
   "metadata": {},
   "outputs": [
    {
     "data": {
      "image/png": "[encoded data removed]",
      "text/plain": [
       "Plot with title \"\""
      ]
     },
     "metadata": {},
     "output_type": "display_data"
    }
   ],
   "source": [
    "# Let's plot some important result of our model \n",
    "options(repr.plot.width = 5, repr.plot.height = 5, repr.plot.res = 150)\n",
    "par(mfrow = c(2, 2))\n",
    "plot(fit3)"
   ]
  },
  {
   "cell_type": "code",
   "execution_count": 31,
   "metadata": {},
   "outputs": [
    {
     "data": {
      "text/plain": [
       "\n",
       "Call:\n",
       "lm(formula = medv ~ crim + zn + chas + nox + rm + dis + rad + \n",
       "    tax + ptratio + black + lstat, data = Boston)\n",
       "\n",
       "Residuals:\n",
       "     Min       1Q   Median       3Q      Max \n",
       "-15.5984  -2.7386  -0.5046   1.7273  26.2373 \n",
       "\n",
       "Coefficients:\n",
       "              Estimate Std. Error t value Pr(>|t|)    \n",
       "(Intercept)  36.341145   5.067492   7.171 2.73e-12 ***\n",
       "crim         -0.108413   0.032779  -3.307 0.001010 ** \n",
       "zn            0.045845   0.013523   3.390 0.000754 ***\n",
       "chas          2.718716   0.854240   3.183 0.001551 ** \n",
       "nox         -17.376023   3.535243  -4.915 1.21e-06 ***\n",
       "rm            3.801579   0.406316   9.356  < 2e-16 ***\n",
       "dis          -1.492711   0.185731  -8.037 6.84e-15 ***\n",
       "rad           0.299608   0.063402   4.726 3.00e-06 ***\n",
       "tax          -0.011778   0.003372  -3.493 0.000521 ***\n",
       "ptratio      -0.946525   0.129066  -7.334 9.24e-13 ***\n",
       "black         0.009291   0.002674   3.475 0.000557 ***\n",
       "lstat        -0.522553   0.047424 -11.019  < 2e-16 ***\n",
       "---\n",
       "Signif. codes:  0 '***' 0.001 '**' 0.01 '*' 0.05 '.' 0.1 ' ' 1\n",
       "\n",
       "Residual standard error: 4.736 on 494 degrees of freedom\n",
       "Multiple R-squared:  0.7406,\tAdjusted R-squared:  0.7348 \n",
       "F-statistic: 128.2 on 11 and 494 DF,  p-value: < 2.2e-16\n"
      ]
     },
     "metadata": {},
     "output_type": "display_data"
    }
   ],
   "source": [
    "# We can also update our previous model by removing the non significant predictors\n",
    "\n",
    "fit4 <- update(fit3, ~ . - age - indus)\n",
    "summary(fit4)"
   ]
  },
  {
   "cell_type": "markdown",
   "metadata": {},
   "source": [
    "We can see that now all our predictors are significant. "
   ]
  },
  {
   "cell_type": "markdown",
   "metadata": {},
   "source": [
    "<font color = red> <h3> 3 - Nonlinear terms and Interactions </h3> </font>"
   ]
  },
  {
   "cell_type": "markdown",
   "metadata": {},
   "source": [
    "Let's fit a model by putting and interaction between lstat and age. "
   ]
  },
  {
   "cell_type": "code",
   "execution_count": 33,
   "metadata": {},
   "outputs": [
    {
     "data": {
      "text/plain": [
       "\n",
       "Call:\n",
       "lm(formula = medv ~ lstat * age, data = Boston)\n",
       "\n",
       "Residuals:\n",
       "    Min      1Q  Median      3Q     Max \n",
       "-15.806  -4.045  -1.333   2.085  27.552 \n",
       "\n",
       "Coefficients:\n",
       "              Estimate Std. Error t value Pr(>|t|)    \n",
       "(Intercept) 36.0885359  1.4698355  24.553  < 2e-16 ***\n",
       "lstat       -1.3921168  0.1674555  -8.313 8.78e-16 ***\n",
       "age         -0.0007209  0.0198792  -0.036   0.9711    \n",
       "lstat:age    0.0041560  0.0018518   2.244   0.0252 *  \n",
       "---\n",
       "Signif. codes:  0 '***' 0.001 '**' 0.01 '*' 0.05 '.' 0.1 ' ' 1\n",
       "\n",
       "Residual standard error: 6.149 on 502 degrees of freedom\n",
       "Multiple R-squared:  0.5557,\tAdjusted R-squared:  0.5531 \n",
       "F-statistic: 209.3 on 3 and 502 DF,  p-value: < 2.2e-16\n"
      ]
     },
     "metadata": {},
     "output_type": "display_data"
    }
   ],
   "source": [
    "fit5 <- lm(medv ~ lstat * age, Boston)\n",
    "summary(fit5)"
   ]
  },
  {
   "cell_type": "markdown",
   "metadata": {},
   "source": [
    "We can see that in this model the effect of `age` is not significant while the effect of the interaction is somewhat significant. "
   ]
  },
  {
   "cell_type": "markdown",
   "metadata": {},
   "source": [
    "Now we will introduce a quadratic term in the model."
   ]
  },
  {
   "cell_type": "code",
   "execution_count": 34,
   "metadata": {},
   "outputs": [
    {
     "data": {
      "text/plain": [
       "\n",
       "Call:\n",
       "lm(formula = medv ~ lstat + I(lstat^2), data = Boston)\n",
       "\n",
       "Residuals:\n",
       "     Min       1Q   Median       3Q      Max \n",
       "-15.2834  -3.8313  -0.5295   2.3095  25.4148 \n",
       "\n",
       "Coefficients:\n",
       "             Estimate Std. Error t value Pr(>|t|)    \n",
       "(Intercept) 42.862007   0.872084   49.15   <2e-16 ***\n",
       "lstat       -2.332821   0.123803  -18.84   <2e-16 ***\n",
       "I(lstat^2)   0.043547   0.003745   11.63   <2e-16 ***\n",
       "---\n",
       "Signif. codes:  0 '***' 0.001 '**' 0.01 '*' 0.05 '.' 0.1 ' ' 1\n",
       "\n",
       "Residual standard error: 5.524 on 503 degrees of freedom\n",
       "Multiple R-squared:  0.6407,\tAdjusted R-squared:  0.6393 \n",
       "F-statistic: 448.5 on 2 and 503 DF,  p-value: < 2.2e-16\n"
      ]
     },
     "metadata": {},
     "output_type": "display_data"
    }
   ],
   "source": [
    "fit6 <- lm(medv ~ lstat + I(lstat^2), Boston)\n",
    "summary(fit6)"
   ]
  },
  {
   "cell_type": "markdown",
   "metadata": {},
   "source": [
    "Here we can see that all our estimated parameters are highly significant, even the quadratic term. "
   ]
  },
  {
   "cell_type": "markdown",
   "metadata": {},
   "source": [
    "Now let's attach our dataset to make some plot easily. "
   ]
  },
  {
   "cell_type": "code",
   "execution_count": 45,
   "metadata": {},
   "outputs": [
    {
     "data": {
      "image/png": "[encoded data removed]",
      "text/plain": [
       "plot without title"
      ]
     },
     "metadata": {},
     "output_type": "display_data"
    }
   ],
   "source": [
    "# attach the data\n",
    "attach(Boston)\n",
    "# make the scatter plot \n",
    "options(repr.plot.width = 4.5, repr.plot.height = 3.5, repr.plot.res = 130, warn = -1)\n",
    "par(mfrow = c(1, 1))\n",
    "plot(medv ~ lstat)\n",
    "# put the quadratic model on the scatter plot\n",
    "points(lstat, fitted(fit6), col = \"red\", pch = 20)"
   ]
  },
  {
   "cell_type": "code",
   "execution_count": 46,
   "metadata": {},
   "outputs": [
    {
     "data": {
      "image/png": "[encoded data removed]",
      "text/plain": [
       "plot without title"
      ]
     },
     "metadata": {},
     "output_type": "display_data"
    }
   ],
   "source": [
    "# Fitting our model with polynomials \n",
    "fit7 <- lm(medv ~ poly(lstat, 4))\n",
    "# Adding the new model to the previous plot \n",
    "par(mfrow = c(1, 1))\n",
    "plot(medv ~ lstat)\n",
    "points(lstat, fitted(fit6), col = \"red\", pch = 20)\n",
    "points(lstat, fitted(fit7), col = \"blue\", pch = 20)"
   ]
  },
  {
   "cell_type": "code",
   "execution_count": null,
   "metadata": {},
   "outputs": [],
   "source": []
  },
  {
   "cell_type": "markdown",
   "metadata": {},
   "source": [
    "<font color = red> <h3> 4 - Qualitative predictors </h3> </font>"
   ]
  },
  {
   "cell_type": "code",
   "execution_count": null,
   "metadata": {},
   "outputs": [],
   "source": []
  },
  {
   "cell_type": "code",
   "execution_count": null,
   "metadata": {},
   "outputs": [],
   "source": []
  },
  {
   "cell_type": "code",
   "execution_count": null,
   "metadata": {},
   "outputs": [],
   "source": []
  },
  {
   "cell_type": "code",
   "execution_count": null,
   "metadata": {},
   "outputs": [],
   "source": []
  },
  {
   "cell_type": "code",
   "execution_count": null,
   "metadata": {},
   "outputs": [],
   "source": []
  }
 ],
 "metadata": {
  "kernelspec": {
   "display_name": "R",
   "language": "R",
   "name": "ir"
  },
  "language_info": {
   "codemirror_mode": "r",
   "file_extension": ".r",
   "mimetype": "text/x-r-source",
   "name": "R",
   "pygments_lexer": "r",
   "version": "3.6.1"
  }
 },
 "nbformat": 4,
 "nbformat_minor": 4
}
